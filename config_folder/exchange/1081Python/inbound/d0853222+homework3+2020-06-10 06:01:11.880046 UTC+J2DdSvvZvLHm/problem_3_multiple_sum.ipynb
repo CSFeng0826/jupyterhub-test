{
 "cells": [
  {
   "cell_type": "code",
   "execution_count": null,
   "metadata": {},
   "outputs": [],
   "source": [
    "# 請輸入姓名以及學號，以證名為本人撰寫\n",
    "Name = \"\"\n",
    "NID = \"\""
   ]
  },
  {
   "cell_type": "markdown",
   "metadata": {},
   "source": [
    "## 倍數總和 (25 points)\n",
    "請將下面 `multiple_sum()` 方法完成。"
   ]
  },
  {
   "cell_type": "code",
   "execution_count": 7,
   "metadata": {
    "deletable": false,
    "nbgrader": {
     "cell_type": "code",
     "checksum": "84efb3e419130838cb5efd487997fead",
     "grade": false,
     "grade_id": "multiple_sum",
     "locked": false,
     "schema_version": 3,
     "solution": true,
     "task": false
    }
   },
   "outputs": [],
   "source": [
    "def multiple_sum():\n",
    "    \"\"\"輸入兩個整數並計算倍數總和\"\"\"\"\"\n",
    "    \n",
    "    # YOUR CODE HERE\n",
    "    a=int(10)\n",
    "    b=int(2)\n",
    "    sum=0\n",
    "            \n",
    "    for i in range (1,a+1):\n",
    "            if i%2==0 :\n",
    "                sum +=i   \n",
    "                \n",
    "    print(sum)"
   ]
  },
  {
   "cell_type": "markdown",
   "metadata": {},
   "source": [
    "當兩個整數分別為 10 體重為 2 時，`multiple_sum()` 方法應該印出 `sum = 30`，請執行以下程式碼確認結果。"
   ]
  },
  {
   "cell_type": "code",
   "execution_count": 8,
   "metadata": {},
   "outputs": [
    {
     "name": "stdout",
     "output_type": "stream",
     "text": [
      "30\n"
     ]
    }
   ],
   "source": [
    "multiple_sum()"
   ]
  },
  {
   "cell_type": "code",
   "execution_count": 9,
   "metadata": {
    "deletable": false,
    "editable": false,
    "nbgrader": {
     "cell_type": "code",
     "checksum": "3918d364077ff73e62946c87579d96e4",
     "grade": true,
     "grade_id": "test_multiple_sum",
     "locked": true,
     "points": 25,
     "schema_version": 3,
     "solution": false,
     "task": false
    }
   },
   "outputs": [
    {
     "name": "stderr",
     "output_type": "stream",
     "text": [
      "test_multiple_sum_1 (__main__.TestMultipleSum) ... FAIL\n",
      "test_multiple_sum_2 (__main__.TestMultipleSum) ... FAIL\n",
      "test_multiple_sum_3 (__main__.TestMultipleSum) ... FAIL\n",
      "\n",
      "======================================================================\n",
      "FAIL: test_multiple_sum_1 (__main__.TestMultipleSum)\n",
      "----------------------------------------------------------------------\n",
      "Traceback (most recent call last):\n",
      "  File \"/opt/conda/lib/python3.6/unittest/mock.py\", line 1179, in patched\n",
      "    return func(*args, **keywargs)\n",
      "  File \"<ipython-input-9-71b06a7822a2>\", line 17, in test_multiple_sum_1\n",
      "    self.assertEqual(output.getvalue(), \"sum = 166833\\n\")\n",
      "AssertionError: '30\\n' != 'sum = 166833\\n'\n",
      "- 30\n",
      "+ sum = 166833\n",
      "\n",
      "\n",
      "======================================================================\n",
      "FAIL: test_multiple_sum_2 (__main__.TestMultipleSum)\n",
      "----------------------------------------------------------------------\n",
      "Traceback (most recent call last):\n",
      "  File \"/opt/conda/lib/python3.6/unittest/mock.py\", line 1179, in patched\n",
      "    return func(*args, **keywargs)\n",
      "  File \"<ipython-input-9-71b06a7822a2>\", line 23, in test_multiple_sum_2\n",
      "    self.assertEqual(output.getvalue(), \"sum = 5050\\n\")\n",
      "AssertionError: '30\\n' != 'sum = 5050\\n'\n",
      "- 30\n",
      "+ sum = 5050\n",
      "\n",
      "\n",
      "======================================================================\n",
      "FAIL: test_multiple_sum_3 (__main__.TestMultipleSum)\n",
      "----------------------------------------------------------------------\n",
      "Traceback (most recent call last):\n",
      "  File \"/opt/conda/lib/python3.6/unittest/mock.py\", line 1179, in patched\n",
      "    return func(*args, **keywargs)\n",
      "  File \"<ipython-input-9-71b06a7822a2>\", line 29, in test_multiple_sum_3\n",
      "    self.assertEqual(output.getvalue(), \"sum = 0\\n\")\n",
      "AssertionError: '30\\n' != 'sum = 0\\n'\n",
      "- 30\n",
      "+ sum = 0\n",
      "\n",
      "\n",
      "----------------------------------------------------------------------\n",
      "Ran 3 tests in 0.022s\n",
      "\n",
      "FAILED (failures=3)\n"
     ]
    },
    {
     "ename": "AssertionError",
     "evalue": "",
     "output_type": "error",
     "traceback": [
      "\u001b[0;31m---------------------------------------------------------------------------\u001b[0m",
      "\u001b[0;31mAssertionError\u001b[0m                            Traceback (most recent call last)",
      "\u001b[0;32m<ipython-input-9-71b06a7822a2>\u001b[0m in \u001b[0;36m<module>\u001b[0;34m\u001b[0m\n\u001b[1;32m     35\u001b[0m \u001b[0mresult\u001b[0m \u001b[0;34m=\u001b[0m \u001b[0munittest\u001b[0m\u001b[0;34m.\u001b[0m\u001b[0mTextTestRunner\u001b[0m\u001b[0;34m(\u001b[0m\u001b[0mverbosity\u001b[0m\u001b[0;34m=\u001b[0m\u001b[0;36m2\u001b[0m\u001b[0;34m)\u001b[0m\u001b[0;34m.\u001b[0m\u001b[0mrun\u001b[0m\u001b[0;34m(\u001b[0m\u001b[0msuite\u001b[0m\u001b[0;34m)\u001b[0m\u001b[0;34m\u001b[0m\u001b[0;34m\u001b[0m\u001b[0m\n\u001b[1;32m     36\u001b[0m \u001b[0;34m\u001b[0m\u001b[0m\n\u001b[0;32m---> 37\u001b[0;31m \u001b[0;32massert\u001b[0m \u001b[0mresult\u001b[0m\u001b[0;34m.\u001b[0m\u001b[0mwasSuccessful\u001b[0m\u001b[0;34m(\u001b[0m\u001b[0;34m)\u001b[0m \u001b[0;34m==\u001b[0m \u001b[0;32mTrue\u001b[0m\u001b[0;34m\u001b[0m\u001b[0;34m\u001b[0m\u001b[0m\n\u001b[0m",
      "\u001b[0;31mAssertionError\u001b[0m: ",
      ""
     ]
    }
   ],
   "source": [
    "\"\"\"檢查 gcd() 結果是否與以下測試案例相同\"\"\"\n",
    "import unittest\n",
    "from unittest import mock\n",
    "from unittest.mock import patch\n",
    "from io import StringIO\n",
    "\n",
    "class TestMultipleSum(unittest.TestCase):\n",
    "    \n",
    "    testcase1 = [1000, 3]\n",
    "    testcase2 = [100, 1]\n",
    "    testcase3 = [0, 7]\n",
    "    \n",
    "    @patch('builtins.input', side_effect=[testcase1[0], testcase1[1]])\n",
    "    def test_multiple_sum_1(self, mock_input):\n",
    "        with mock.patch('sys.stdout', new = StringIO()) as output:\n",
    "            multiple_sum()\n",
    "            self.assertEqual(output.getvalue(), \"sum = 166833\\n\")\n",
    "            \n",
    "    @patch('builtins.input', side_effect=[testcase2[0], testcase2[1]])\n",
    "    def test_multiple_sum_2(self, mock_input):\n",
    "        with mock.patch('sys.stdout', new = StringIO()) as output:\n",
    "            multiple_sum()\n",
    "            self.assertEqual(output.getvalue(), \"sum = 5050\\n\")\n",
    "    \n",
    "    @patch('builtins.input', side_effect=[testcase3[0], testcase3[1]])\n",
    "    def test_multiple_sum_3(self, mock_input):\n",
    "        with mock.patch('sys.stdout', new = StringIO()) as output:\n",
    "            multiple_sum()\n",
    "            self.assertEqual(output.getvalue(), \"sum = 0\\n\")\n",
    "\n",
    "suite = unittest.TestSuite()\n",
    "suite.addTest(TestMultipleSum('test_multiple_sum_1'))\n",
    "suite.addTest(TestMultipleSum('test_multiple_sum_2'))\n",
    "suite.addTest(TestMultipleSum('test_multiple_sum_3'))\n",
    "result = unittest.TextTestRunner(verbosity=2).run(suite)\n",
    "\n",
    "assert result.wasSuccessful() == True"
   ]
  }
 ],
 "metadata": {
  "kernelspec": {
   "display_name": "Python 3",
   "language": "python",
   "name": "python3"
  },
  "language_info": {
   "codemirror_mode": {
    "name": "ipython",
    "version": 3
   },
   "file_extension": ".py",
   "mimetype": "text/x-python",
   "name": "python",
   "nbconvert_exporter": "python",
   "pygments_lexer": "ipython3",
   "version": "3.6.7"
  }
 },
 "nbformat": 4,
 "nbformat_minor": 4
}

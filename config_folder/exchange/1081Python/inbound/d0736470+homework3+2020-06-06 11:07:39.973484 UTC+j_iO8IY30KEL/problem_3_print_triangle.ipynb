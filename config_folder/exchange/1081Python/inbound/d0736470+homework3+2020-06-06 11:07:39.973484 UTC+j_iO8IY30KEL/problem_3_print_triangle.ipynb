{
 "cells": [
  {
   "cell_type": "code",
   "execution_count": null,
   "metadata": {},
   "outputs": [],
   "source": [
    "# 請輸入姓名以及學號，以證名為本人撰寫\n",
    "Name = \"\"\n",
    "NID = \"\""
   ]
  },
  {
   "cell_type": "markdown",
   "metadata": {},
   "source": [
    "## 三角形 (25 points)\n",
    "\n",
    "請將下面 `triangle()` 方法完成，輸入三角形的層數並印出 **左半邊三角形的形狀**。<br></br><br></br>\n",
    "注意：層數為 `int` 型態"
   ]
  },
  {
   "cell_type": "code",
   "execution_count": 8,
   "metadata": {
    "deletable": false,
    "nbgrader": {
     "cell_type": "code",
     "checksum": "c43a38bc721051b1fa3e3247b0812137",
     "grade": false,
     "grade_id": "triangle",
     "locked": false,
     "schema_version": 3,
     "solution": true,
     "task": false
    }
   },
   "outputs": [
    {
     "ename": "IndentationError",
     "evalue": "expected an indented block (<ipython-input-8-20e6427b00ba>, line 8)",
     "output_type": "error",
     "traceback": [
      "\u001b[0;36m  File \u001b[0;32m\"<ipython-input-8-20e6427b00ba>\"\u001b[0;36m, line \u001b[0;32m8\u001b[0m\n\u001b[0;31m    if i+j<=a:\u001b[0m\n\u001b[0m     ^\u001b[0m\n\u001b[0;31mIndentationError\u001b[0m\u001b[0;31m:\u001b[0m expected an indented block\n",
      "程式碼需要縮排，請使用空格或者 Tab 進行縮排。",
      "",
      "縮排以及空格：",
      "https://python-book-test.readthedocs.io/en/latest/intro/03_base.html#id3"
     ]
    }
   ],
   "source": [
    "def triangle():\n",
    "    \"\"\"輸入三角形的層數並印出左半邊三角形的形狀\"\"\"\"\"\n",
    "    \n",
    "    # YOUR CODE HERE\n",
    "    a=int(input())\n",
    "    for i in range(1,a+1):\n",
    "        for j in range(1,a+1):\n",
    "        if i+j<=a:\n",
    "            print(' ',end=' ')\n",
    "        elif a==j:\n",
    "        print('*',end='')\n",
    "        else:\n",
    "            print('*',end=' ')\n",
    "        print()"
   ]
  },
  {
   "cell_type": "markdown",
   "metadata": {},
   "source": [
    "當層數為 8 時，`triangle()` 方法應該印出如下的三角形，請執行以下程式碼確認結果。\n",
    "\n",
    "                  *\n",
    "                * *\n",
    "              * * *\n",
    "            * * * *\n",
    "          * * * * *\n",
    "        * * * * * *\n",
    "      * * * * * * *\n",
    "    * * * * * * * *"
   ]
  },
  {
   "cell_type": "code",
   "execution_count": null,
   "metadata": {},
   "outputs": [],
   "source": [
    "triangle()"
   ]
  },
  {
   "cell_type": "code",
   "execution_count": null,
   "metadata": {
    "deletable": false,
    "editable": false,
    "nbgrader": {
     "cell_type": "code",
     "checksum": "cbe2f69da3d647b5c0e3772c607ae322",
     "grade": true,
     "grade_id": "test_triangle",
     "locked": true,
     "points": 25,
     "schema_version": 3,
     "solution": false,
     "task": false
    }
   },
   "outputs": [],
   "source": [
    "\"\"\"檢查 triangle() 結果是否與以下測試案例相同\"\"\"\n",
    "import unittest\n",
    "from unittest import mock\n",
    "from unittest.mock import patch\n",
    "from io import StringIO\n",
    "\n",
    "class TestTriangle(unittest.TestCase):\n",
    "    \n",
    "    testcase1 = 4\n",
    "    testcase2 = 6\n",
    "    testcase3 = 8\n",
    "    \n",
    "    @patch('builtins.input', side_effect=[testcase1])\n",
    "    def test_triangle_1(self, mock_input):\n",
    "        with mock.patch('sys.stdout', new = StringIO()) as output:\n",
    "            triangle()\n",
    "            self.assertEqual(output.getvalue(), \"      *\\n    * *\\n  * * *\\n* * * *\\n\")\n",
    "            \n",
    "    @patch('builtins.input', side_effect=[testcase2])\n",
    "    def test_triangle_2(self, mock_input):\n",
    "        with mock.patch('sys.stdout', new = StringIO()) as output:\n",
    "            triangle()\n",
    "            self.assertEqual(output.getvalue(), \"          *\\n        * *\\n      * * *\\n    * * * *\\n  * * * * *\\n* * * * * *\\n\")\n",
    "            \n",
    "    @patch('builtins.input', side_effect=[testcase3])\n",
    "    def test_triangle_3(self, mock_input):\n",
    "        with mock.patch('sys.stdout', new = StringIO()) as output:\n",
    "            triangle()\n",
    "            self.assertEqual(output.getvalue(), \"              *\\n            * *\\n          * * *\\n        * * * *\\n      * * * * *\\n    * * * * * *\\n  * * * * * * *\\n* * * * * * * *\\n\")\n",
    "\n",
    "suite = unittest.TestSuite()\n",
    "suite.addTest(TestTriangle('test_triangle_1'))\n",
    "suite.addTest(TestTriangle('test_triangle_2'))\n",
    "suite.addTest(TestTriangle('test_triangle_3'))\n",
    "result = unittest.TextTestRunner(verbosity=2).run(suite)\n",
    "\n",
    "assert result.wasSuccessful() == True"
   ]
  }
 ],
 "metadata": {
  "kernelspec": {
   "display_name": "Python 3",
   "language": "python",
   "name": "python3"
  },
  "language_info": {
   "codemirror_mode": {
    "name": "ipython",
    "version": 3
   },
   "file_extension": ".py",
   "mimetype": "text/x-python",
   "name": "python",
   "nbconvert_exporter": "python",
   "pygments_lexer": "ipython3",
   "version": "3.6.7"
  }
 },
 "nbformat": 4,
 "nbformat_minor": 4
}

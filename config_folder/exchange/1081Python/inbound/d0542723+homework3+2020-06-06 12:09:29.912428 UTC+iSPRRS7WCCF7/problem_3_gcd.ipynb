{
 "cells": [
  {
   "cell_type": "code",
   "execution_count": null,
   "metadata": {},
   "outputs": [],
   "source": [
    "# 請輸入姓名以及學號，以證名為本人撰寫\n",
    "Name = \"\"\n",
    "NID = \"\""
   ]
  },
  {
   "cell_type": "markdown",
   "metadata": {},
   "source": [
    "## 最大公因數 (25 points)\n",
    "\n",
    "請將下面 `gcd()` 方法完成，輸入兩個整數並計算兩個整數的 **最大公因數**。<br></br><br></br>\n",
    "注意：兩個整數均為 `int` 型態"
   ]
  },
  {
   "cell_type": "code",
   "execution_count": 2,
   "metadata": {
    "deletable": false,
    "nbgrader": {
     "cell_type": "code",
     "checksum": "c2e46019d230e5e890bb00a3b1938694",
     "grade": false,
     "grade_id": "gcd",
     "locked": false,
     "schema_version": 3,
     "solution": true,
     "task": false
    }
   },
   "outputs": [],
   "source": [
    "def gcd():\n",
    "    \"\"\"輸入兩個整數並計算兩個整數的最大公因數\"\"\"\"\"\n",
    "    \n",
    "    # YOUR CODE HERE\n",
    "    a = int(input())\n",
    "    b = int(input())\n",
    "    c = 1\n",
    "    d = 1\n",
    "    while d != 0:\n",
    "        if a<b:\n",
    "            a,b = b,a\n",
    "        d = a % b\n",
    "        c = b\n",
    "        a,b = b,d\n",
    "        \n",
    "    print(\"GCD =\",c)"
   ]
  },
  {
   "cell_type": "markdown",
   "metadata": {},
   "source": [
    "當兩個整數分別為 65 體重為 104 時，`gcd()` 方法應該印出 `GCD = 13`，請執行以下程式碼確認結果。"
   ]
  },
  {
   "cell_type": "code",
   "execution_count": null,
   "metadata": {},
   "outputs": [],
   "source": [
    "gcd()"
   ]
  },
  {
   "cell_type": "code",
   "execution_count": null,
   "metadata": {
    "deletable": false,
    "editable": false,
    "nbgrader": {
     "cell_type": "code",
     "checksum": "2ff785b2d49a317d587ca2a3770a8151",
     "grade": true,
     "grade_id": "test_gcd",
     "locked": true,
     "points": 25,
     "schema_version": 3,
     "solution": false,
     "task": false
    }
   },
   "outputs": [],
   "source": [
    "\"\"\"檢查 gcd() 結果是否與以下測試案例相同\"\"\"\n",
    "import unittest\n",
    "from unittest import mock\n",
    "from unittest.mock import patch\n",
    "from io import StringIO\n",
    "\n",
    "class TestGCD(unittest.TestCase):\n",
    "    \n",
    "    testcase1 = [15, 9]\n",
    "    testcase2 = [65, 104]\n",
    "    \n",
    "    @patch('builtins.input', side_effect=[testcase1[0], testcase1[1]])\n",
    "    def test_gcd_1(self, mock_input):\n",
    "        with mock.patch('sys.stdout', new = StringIO()) as output:\n",
    "            gcd()\n",
    "            self.assertEqual(output.getvalue(), \"GCD = 3\\n\")\n",
    "            \n",
    "    @patch('builtins.input', side_effect=[testcase2[0], testcase2[1]])\n",
    "    def test_gcd_2(self, mock_input):\n",
    "        with mock.patch('sys.stdout', new = StringIO()) as output:\n",
    "            gcd()\n",
    "            self.assertEqual(output.getvalue(), \"GCD = 13\\n\")\n",
    "\n",
    "suite = unittest.TestSuite()\n",
    "suite.addTest(TestGCD('test_gcd_1'))\n",
    "suite.addTest(TestGCD('test_gcd_2'))\n",
    "result = unittest.TextTestRunner(verbosity=2).run(suite)\n",
    "\n",
    "assert result.wasSuccessful() == True"
   ]
  }
 ],
 "metadata": {
  "kernelspec": {
   "display_name": "Python 3",
   "language": "python",
   "name": "python3"
  },
  "language_info": {
   "codemirror_mode": {
    "name": "ipython",
    "version": 3
   },
   "file_extension": ".py",
   "mimetype": "text/x-python",
   "name": "python",
   "nbconvert_exporter": "python",
   "pygments_lexer": "ipython3",
   "version": "3.6.7"
  }
 },
 "nbformat": 4,
 "nbformat_minor": 4
}

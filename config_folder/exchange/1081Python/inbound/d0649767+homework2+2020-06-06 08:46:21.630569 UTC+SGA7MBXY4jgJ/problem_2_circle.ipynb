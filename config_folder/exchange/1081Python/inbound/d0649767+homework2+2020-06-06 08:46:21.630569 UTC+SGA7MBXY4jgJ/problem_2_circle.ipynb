{
 "cells": [
  {
   "cell_type": "code",
   "execution_count": null,
   "metadata": {},
   "outputs": [],
   "source": [
    "# 請輸入姓名以及學號，以證名為本人撰寫\n",
    "Name = \"\"\n",
    "NID = \"\""
   ]
  },
  {
   "cell_type": "markdown",
   "metadata": {},
   "source": [
    "## 計算圓的周長以及面積 (30 points)\n",
    "\n",
    "請將下面 `circle()` 方法完成，輸入圓的 **直徑** 並計算圓周長以及面積。<br></br><br></br>\n",
    "注意：直徑為 `float` 型態"
   ]
  },
  {
   "cell_type": "code",
   "execution_count": 1,
   "metadata": {
    "deletable": false,
    "nbgrader": {
     "cell_type": "code",
     "checksum": "59f4df81a338d55bebffe64926adb801",
     "grade": false,
     "grade_id": "circle",
     "locked": false,
     "schema_version": 3,
     "solution": true
    }
   },
   "outputs": [],
   "source": [
    "def circle():\n",
    "    \"\"\"計算圓周長以及面積，輸入直徑，並印出圓周長以及面積\"\"\"\"\"\n",
    "    \n",
    "    # YOUR CODE HERE\n",
    "    pi = 3.14\n",
    "    a= float(input())\n",
    "    print(\"circumference = \" + str(round(a*pi,2)))\n",
    "    print(\"Area = \" + str(round(((a/2)**2)*pi,2)))"
   ]
  },
  {
   "cell_type": "markdown",
   "metadata": {},
   "source": [
    "當直徑為 `10` 時，`circle()` 方法應該印出以下結果：<br></br><br></br>\n",
    "`Circumference = 31.40`<br></br>\n",
    "`Area = 78.50`<br></br><br></br>\n",
    "請執行以下程式碼確認結果。"
   ]
  },
  {
   "cell_type": "code",
   "execution_count": null,
   "metadata": {},
   "outputs": [],
   "source": [
    "circle()"
   ]
  },
  {
   "cell_type": "code",
   "execution_count": null,
   "metadata": {
    "deletable": false,
    "editable": false,
    "nbgrader": {
     "cell_type": "code",
     "checksum": "8bdfcfe5bf20b46ada07673e59e91a2d",
     "grade": true,
     "grade_id": "correct_circle",
     "locked": false,
     "points": 30,
     "schema_version": 3,
     "solution": false
    }
   },
   "outputs": [],
   "source": [
    "\"\"\"檢查 circle() 結果是否與以下測試案例相同\"\"\"\n",
    "import unittest\n",
    "from unittest import mock\n",
    "from unittest.mock import patch\n",
    "from io import StringIO\n",
    "\n",
    "class TestCircle(unittest.TestCase):\n",
    "    \n",
    "    d = 6\n",
    "    \n",
    "    @patch('builtins.input', side_effect=[d])\n",
    "    def test_circle(self, mock_input):\n",
    "        with mock.patch('sys.stdout', new = StringIO()) as output:\n",
    "            circle()\n",
    "            self.assertEqual(output.getvalue(), \"circumference = 18.84\\nArea = 28.26\\n\")\n",
    "\n",
    "suite = unittest.TestSuite()\n",
    "suite.addTest(TestCircle('test_circle'))\n",
    "result = unittest.TextTestRunner(verbosity=2).run(suite)\n",
    "\n",
    "assert result.wasSuccessful() == True"
   ]
  }
 ],
 "metadata": {
  "kernelspec": {
   "display_name": "Python 3",
   "language": "python",
   "name": "python3"
  },
  "language_info": {
   "codemirror_mode": {
    "name": "ipython",
    "version": 3
   },
   "file_extension": ".py",
   "mimetype": "text/x-python",
   "name": "python",
   "nbconvert_exporter": "python",
   "pygments_lexer": "ipython3",
   "version": "3.6.7"
  }
 },
 "nbformat": 4,
 "nbformat_minor": 1
}

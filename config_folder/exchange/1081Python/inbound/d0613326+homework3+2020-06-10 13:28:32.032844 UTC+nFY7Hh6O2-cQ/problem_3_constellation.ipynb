{
 "cells": [
  {
   "cell_type": "code",
   "execution_count": null,
   "metadata": {},
   "outputs": [],
   "source": [
    "# 請輸入姓名以及學號，以證名為本人撰寫\n",
    "Name = \"\"\n",
    "NID = \"\""
   ]
  },
  {
   "cell_type": "markdown",
   "metadata": {},
   "source": [
    "## 十二星座 (25 points)\n",
    "\n",
    "請將下面 `constellation()` 方法完成，輸入月份以及日期並回傳 **星座**。<br></br><br></br>\n",
    "十二星座如下：\n",
    "* 水瓶座 ( 1/20 - 2/18 )：Aquarius\n",
    "* 雙魚座 ( 2/19 - 3/20 )：Pisces\n",
    "* 牧羊座 ( 3/21 - 4/20 )：Aries\n",
    "* 金牛座 ( 4/21 - 5/20 )：Taurus\n",
    "* 雙子座 ( 5/21 - 6/21 )：Gemini\n",
    "* 巨蟹座 ( 6/22 - 7/22 )：Cancer\n",
    "* 獅子座 ( 7/23 - 8/22 )：Leo\n",
    "* 處女座 ( 8/23 - 9/22 )：Virgo\n",
    "* 天秤座 ( 9/23 - 10/23 )：Libra\n",
    "* 天蠍座 ( 10/24 - 11/22 )：Scorpio\n",
    "* 射手座 ( 11/23 - 12/21 )：Sagittarius\n",
    "* 摩羯座 ( 12/22 - 1/20 )：Capricorn"
   ]
  },
  {
   "cell_type": "code",
   "execution_count": 7,
   "metadata": {
    "deletable": false,
    "nbgrader": {
     "cell_type": "code",
     "checksum": "f19899616035b69de775cbc11575cdb4",
     "grade": false,
     "grade_id": "constellation",
     "locked": false,
     "schema_version": 3,
     "solution": true,
     "task": false
    }
   },
   "outputs": [
    {
     "ename": "SyntaxError",
     "evalue": "invalid syntax (<ipython-input-7-89a324257664>, line 7)",
     "output_type": "error",
     "traceback": [
      "\u001b[0;36m  File \u001b[0;32m\"<ipython-input-7-89a324257664>\"\u001b[0;36m, line \u001b[0;32m7\u001b[0m\n\u001b[0;31m    if a = 10:\u001b[0m\n\u001b[0m         ^\u001b[0m\n\u001b[0;31mSyntaxError\u001b[0m\u001b[0;31m:\u001b[0m invalid syntax\n",
      "語法錯誤，可能缺少括號、字符等等，請檢查語法是否正確。"
     ]
    }
   ],
   "source": [
    "def constellation():\n",
    "    \"\"\"輸入月份及日期，並印出為哪一個星座\"\"\"\"\"\n",
    "    \n",
    "    # YOUR CODE HERE\n",
    "    a = int(input())\n",
    "    b = int(input())\n",
    "    if a = 10:\n",
    "        print(\"Scorpio\")\n",
    "    end"
   ]
  },
  {
   "cell_type": "markdown",
   "metadata": {},
   "source": [
    "當月份為 10 日期為 5 時，`constellation()` 方法應該印出 `Libra`，請執行以下程式碼確認結果。"
   ]
  },
  {
   "cell_type": "code",
   "execution_count": 8,
   "metadata": {},
   "outputs": [
    {
     "name": "stdout",
     "output_type": "stream",
     "text": [
      "1\n",
      "15\n",
      "Scorpio\n"
     ]
    }
   ],
   "source": [
    "constellation()"
   ]
  },
  {
   "cell_type": "code",
   "execution_count": 9,
   "metadata": {
    "deletable": false,
    "editable": false,
    "nbgrader": {
     "cell_type": "code",
     "checksum": "0181e7452afc8bb08c0467b5494e245c",
     "grade": true,
     "grade_id": "test_constellation",
     "locked": true,
     "points": 25,
     "schema_version": 3,
     "solution": false,
     "task": false
    }
   },
   "outputs": [
    {
     "name": "stderr",
     "output_type": "stream",
     "text": [
      "test_constellation_1 (__main__.TestConstellation) ... FAIL\n",
      "test_constellation_2 (__main__.TestConstellation) ... FAIL\n",
      "\n",
      "======================================================================\n",
      "FAIL: test_constellation_1 (__main__.TestConstellation)\n",
      "----------------------------------------------------------------------\n",
      "Traceback (most recent call last):\n",
      "  File \"/opt/conda/lib/python3.6/unittest/mock.py\", line 1179, in patched\n",
      "    return func(*args, **keywargs)\n",
      "  File \"<ipython-input-9-81cfcbfa61d1>\", line 16, in test_constellation_1\n",
      "    self.assertEqual(output.getvalue(), \"Pisces\\n\")\n",
      "AssertionError: 'Scorpio\\n' != 'Pisces\\n'\n",
      "- Scorpio\n",
      "+ Pisces\n",
      "\n",
      "\n",
      "======================================================================\n",
      "FAIL: test_constellation_2 (__main__.TestConstellation)\n",
      "----------------------------------------------------------------------\n",
      "Traceback (most recent call last):\n",
      "  File \"/opt/conda/lib/python3.6/unittest/mock.py\", line 1179, in patched\n",
      "    return func(*args, **keywargs)\n",
      "  File \"<ipython-input-9-81cfcbfa61d1>\", line 22, in test_constellation_2\n",
      "    self.assertEqual(output.getvalue(), \"Taurus\\n\")\n",
      "AssertionError: 'Scorpio\\n' != 'Taurus\\n'\n",
      "- Scorpio\n",
      "+ Taurus\n",
      "\n",
      "\n",
      "----------------------------------------------------------------------\n",
      "Ran 2 tests in 0.008s\n",
      "\n",
      "FAILED (failures=2)\n"
     ]
    },
    {
     "ename": "AssertionError",
     "evalue": "",
     "output_type": "error",
     "traceback": [
      "\u001b[0;31m---------------------------------------------------------------------------\u001b[0m",
      "\u001b[0;31mAssertionError\u001b[0m                            Traceback (most recent call last)",
      "\u001b[0;32m<ipython-input-9-81cfcbfa61d1>\u001b[0m in \u001b[0;36m<module>\u001b[0;34m\u001b[0m\n\u001b[1;32m     27\u001b[0m \u001b[0mresult\u001b[0m \u001b[0;34m=\u001b[0m \u001b[0munittest\u001b[0m\u001b[0;34m.\u001b[0m\u001b[0mTextTestRunner\u001b[0m\u001b[0;34m(\u001b[0m\u001b[0mverbosity\u001b[0m\u001b[0;34m=\u001b[0m\u001b[0;36m2\u001b[0m\u001b[0;34m)\u001b[0m\u001b[0;34m.\u001b[0m\u001b[0mrun\u001b[0m\u001b[0;34m(\u001b[0m\u001b[0msuite\u001b[0m\u001b[0;34m)\u001b[0m\u001b[0;34m\u001b[0m\u001b[0;34m\u001b[0m\u001b[0m\n\u001b[1;32m     28\u001b[0m \u001b[0;34m\u001b[0m\u001b[0m\n\u001b[0;32m---> 29\u001b[0;31m \u001b[0;32massert\u001b[0m \u001b[0mresult\u001b[0m\u001b[0;34m.\u001b[0m\u001b[0mwasSuccessful\u001b[0m\u001b[0;34m(\u001b[0m\u001b[0;34m)\u001b[0m \u001b[0;34m==\u001b[0m \u001b[0;32mTrue\u001b[0m\u001b[0;34m\u001b[0m\u001b[0;34m\u001b[0m\u001b[0m\n\u001b[0m",
      "\u001b[0;31mAssertionError\u001b[0m: ",
      ""
     ]
    }
   ],
   "source": [
    "\"\"\"檢查 constellation() 結果是否與以下測試案例相同\"\"\"\n",
    "import unittest\n",
    "from unittest import mock\n",
    "from unittest.mock import patch\n",
    "from io import StringIO\n",
    "\n",
    "class TestConstellation(unittest.TestCase):\n",
    "    \n",
    "    testcase_1 = [3, 7]\n",
    "    testcase_2 = [5, 4]\n",
    "    \n",
    "    @patch('builtins.input', side_effect=[testcase_1[0], testcase_1[1]])\n",
    "    def test_constellation_1(self, mock_input):\n",
    "        with mock.patch('sys.stdout', new = StringIO()) as output:\n",
    "            constellation()\n",
    "            self.assertEqual(output.getvalue(), \"Pisces\\n\")\n",
    "            \n",
    "    @patch('builtins.input', side_effect=[testcase_2[0], testcase_2[1]])\n",
    "    def test_constellation_2(self, mock_input):\n",
    "        with mock.patch('sys.stdout', new = StringIO()) as output:\n",
    "            constellation()\n",
    "            self.assertEqual(output.getvalue(), \"Taurus\\n\")\n",
    "\n",
    "suite = unittest.TestSuite()\n",
    "suite.addTest(TestConstellation('test_constellation_1'))\n",
    "suite.addTest(TestConstellation('test_constellation_2'))\n",
    "result = unittest.TextTestRunner(verbosity=2).run(suite)\n",
    "\n",
    "assert result.wasSuccessful() == True"
   ]
  }
 ],
 "metadata": {
  "kernelspec": {
   "display_name": "Python 3",
   "language": "python",
   "name": "python3"
  },
  "language_info": {
   "codemirror_mode": {
    "name": "ipython",
    "version": 3
   },
   "file_extension": ".py",
   "mimetype": "text/x-python",
   "name": "python",
   "nbconvert_exporter": "python",
   "pygments_lexer": "ipython3",
   "version": "3.6.7"
  }
 },
 "nbformat": 4,
 "nbformat_minor": 4
}

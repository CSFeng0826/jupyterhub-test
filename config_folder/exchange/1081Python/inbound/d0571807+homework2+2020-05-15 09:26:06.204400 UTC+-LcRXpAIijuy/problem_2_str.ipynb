{
 "cells": [
  {
   "cell_type": "code",
   "execution_count": null,
   "metadata": {},
   "outputs": [],
   "source": [
    "# 請輸入姓名以及學號，以證名為本人撰寫\n",
    "Name = \"\"\n",
    "NID = \"\""
   ]
  },
  {
   "cell_type": "markdown",
   "metadata": {},
   "source": [
    "## 字串處理 (30 points)\n",
    "\n",
    "請將下面 `Str()` 方法完成，輸入一段字串後，再輸入 **被取代的文字** 以及 **取代的文字**，並輸出三個結果，分別為：\n",
    "1. 所有文字轉換為大寫的字串\n",
    "2. 所有文字轉換為小寫的字串\n",
    "3. 被取代文字後的字串\n",
    "<br></br><br></br>\n",
    "注意：使用 `upper()`、`lower()` 以及 `replace()` 實作"
   ]
  },
  {
   "cell_type": "code",
   "execution_count": 1,
   "metadata": {
    "deletable": false,
    "nbgrader": {
     "cell_type": "code",
     "checksum": "cea15d21d8b2ec3e5fe97b3359b14476",
     "grade": false,
     "grade_id": "str",
     "locked": false,
     "schema_version": 3,
     "solution": true
    }
   },
   "outputs": [],
   "source": [
    "def Str():\n",
    "    \"\"\"輸入目標字串、被取代的文字以及取代的文字，並印出題目格式\"\"\"\"\"\n",
    "    \n",
    "    # YOUR CODE HERE\n",
    "    first = input('')\n",
    "    second = input('')\n",
    "    third = input('')\n",
    "    print(first.upper())\n",
    "    print(first.lower())\n",
    "    print(first.replace(second, third))"
   ]
  },
  {
   "cell_type": "markdown",
   "metadata": {},
   "source": [
    "當輸入 `TA is handsome`、`is` 以及 `isn't` 時，`Str()` 方法應該印出 <br></br><br></br>\n",
    "`TA IS HANDSOME`<br></br>\n",
    "`ta is handsome`<br></br>\n",
    "`TA isn't handsome`<br></br><br></br>\n",
    "請執行以下程式碼確認結果。"
   ]
  },
  {
   "cell_type": "code",
   "execution_count": null,
   "metadata": {},
   "outputs": [],
   "source": [
    "Str()"
   ]
  },
  {
   "cell_type": "code",
   "execution_count": null,
   "metadata": {
    "deletable": false,
    "editable": false,
    "nbgrader": {
     "cell_type": "code",
     "checksum": "c8297195512d57aa5b539aba79d3d7b7",
     "grade": true,
     "grade_id": "correct_str",
     "locked": false,
     "points": 30,
     "schema_version": 3,
     "solution": false
    }
   },
   "outputs": [],
   "source": [
    "\"\"\"檢查 Str() 結果是否與以下測試案例相同\"\"\"\n",
    "import unittest\n",
    "from unittest import mock\n",
    "from unittest.mock import patch\n",
    "from io import StringIO\n",
    "\n",
    "class TestStr(unittest.TestCase):\n",
    "    \n",
    "    input_str = \"FCU is rich\"\n",
    "    old = 'is'\n",
    "    new = 'isn\\'t'\n",
    "    \n",
    "    @patch('builtins.input', side_effect=[input_str, old, new])\n",
    "    def test_Str(self, mock_input):\n",
    "        with mock.patch('sys.stdout', new = StringIO()) as output:\n",
    "            Str()\n",
    "            self.assertEqual(output.getvalue(), \"FCU IS RICH\\nfcu is rich\\nFCU isn't rich\\n\")\n",
    "\n",
    "suite = unittest.TestSuite()\n",
    "suite.addTest(TestStr('test_Str'))\n",
    "result = unittest.TextTestRunner(verbosity=2).run(suite)\n",
    "\n",
    "assert result.wasSuccessful() == True"
   ]
  }
 ],
 "metadata": {
  "kernelspec": {
   "display_name": "Python 3",
   "language": "python",
   "name": "python3"
  },
  "language_info": {
   "codemirror_mode": {
    "name": "ipython",
    "version": 3
   },
   "file_extension": ".py",
   "mimetype": "text/x-python",
   "name": "python",
   "nbconvert_exporter": "python",
   "pygments_lexer": "ipython3",
   "version": "3.6.7"
  }
 },
 "nbformat": 4,
 "nbformat_minor": 1
}

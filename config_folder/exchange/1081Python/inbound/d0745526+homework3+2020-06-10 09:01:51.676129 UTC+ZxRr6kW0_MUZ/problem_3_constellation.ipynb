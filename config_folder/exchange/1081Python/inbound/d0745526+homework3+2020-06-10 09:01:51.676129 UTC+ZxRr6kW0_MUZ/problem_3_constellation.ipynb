{
 "cells": [
  {
   "cell_type": "code",
   "execution_count": null,
   "metadata": {},
   "outputs": [],
   "source": [
    "# 請輸入姓名以及學號，以證名為本人撰寫\n",
    "Name = \"\"\n",
    "NID = \"\""
   ]
  },
  {
   "cell_type": "markdown",
   "metadata": {},
   "source": [
    "## 十二星座 (25 points)\n",
    "\n",
    "請將下面 `constellation()` 方法完成，輸入月份以及日期並回傳 **星座**。<br></br><br></br>\n",
    "十二星座如下：\n",
    "* 水瓶座 ( 1/20 - 2/18 )：Aquarius\n",
    "* 雙魚座 ( 2/19 - 3/20 )：Pisces\n",
    "* 牧羊座 ( 3/21 - 4/20 )：Aries\n",
    "* 金牛座 ( 4/21 - 5/20 )：Taurus\n",
    "* 雙子座 ( 5/21 - 6/21 )：Gemini\n",
    "* 巨蟹座 ( 6/22 - 7/22 )：Cancer\n",
    "* 獅子座 ( 7/23 - 8/22 )：Leo\n",
    "* 處女座 ( 8/23 - 9/22 )：Virgo\n",
    "* 天秤座 ( 9/23 - 10/23 )：Libra\n",
    "* 天蠍座 ( 10/24 - 11/22 )：Scorpio\n",
    "* 射手座 ( 11/23 - 12/21 )：Sagittarius\n",
    "* 摩羯座 ( 12/22 - 1/20 )：Capricorn"
   ]
  },
  {
   "cell_type": "code",
   "execution_count": 61,
   "metadata": {
    "deletable": false,
    "nbgrader": {
     "cell_type": "code",
     "checksum": "f19899616035b69de775cbc11575cdb4",
     "grade": false,
     "grade_id": "constellation",
     "locked": false,
     "schema_version": 3,
     "solution": true,
     "task": false
    }
   },
   "outputs": [],
   "source": [
    "def constellation():\n",
    "    \"\"\"輸入月份及日期，並印出為哪一個星座\"\"\"\"\"\n",
    "    \n",
    "    # YOUR CODE HERE\n",
    "    # -*- coding: utf-8 -*-\n",
    "    \"\"\"\n",
    "    Spyder Editor\n",
    "    \n",
    "    This is a temporary script f1\n",
    "    ile.\n",
    "    \"\"\"\"\"\n",
    "    a=int(input(\"\"))\n",
    "    b=int(input(\"\"))\n",
    "    if a == 1:\n",
    "        if b <= 21 and b >= 1 :\n",
    "            print('Capricorn')\n",
    "        elif b <= 31 and b >= 22:\n",
    "            print('Aquarius')\n",
    "    elif a == 2:\n",
    "        if b <= 19 and b >= 1 :\n",
    "            print('Aquarius')\n",
    "        elif b <= 31 and b >= 20:\n",
    "            print('Pisces') \n",
    "    elif a == 3:\n",
    "        if b <= 20 and b >= 1 :\n",
    "            print('Pisces')\n",
    "        elif b <= 31 and b >= 21:\n",
    "            print('Aries') \n",
    "    elif a == 4:\n",
    "        if b <= 20 and b >= 1 :\n",
    "            print('Aries')\n",
    "        elif b <= 31 and b >= 21:\n",
    "            print('Taurus') \n",
    "    elif a == 5:\n",
    "        if b <= 21 and b >= 1 :\n",
    "            print('Taurus')\n",
    "        elif b <= 31 and b >= 22:\n",
    "            print('Gemini') \n",
    "    elif a == 6:\n",
    "        if b <= 20 and b >= 1 :\n",
    "            print('Gemini')\n",
    "        elif b <= 31 and b >= 21:\n",
    "            print('Cancer') \n",
    "    elif a == 7:\n",
    "        if b <= 22 and b >= 1 :\n",
    "            print('Cancer')\n",
    "        elif b <= 31 and b >= 23:\n",
    "            print('Leo') \n",
    "    elif a == 8:\n",
    "        if b <= 22 and b >= 1 :\n",
    "            print('Leo')\n",
    "        elif b <= 31 and b >= 23:\n",
    "            print('Virgo') \n",
    "    elif a == 9:\n",
    "        if b <= 22 and b >= 1 :\n",
    "            print('Virgo')\n",
    "        elif b <= 31 and b >= 23:\n",
    "            print('Libra')\n",
    "    elif a == 10:\n",
    "        if b <= 22 and b >= 1 :\n",
    "            print('Libra')\n",
    "        elif b <= 31 and b >= 23:\n",
    "            print('Scorpio') \n",
    "    elif a == 11:\n",
    "        if b <= 22 and b >= 1 :\n",
    "            print('Scorpio')\n",
    "        elif b <= 31 and b >= 23:\n",
    "            print('Sagittarius') \n",
    "    else:\n",
    "        if b <= 22 and b >= 1 :\n",
    "            print('Sagittarius')\n",
    "        elif b <= 31 and b >= 23:\n",
    "            print('Capricorn')"
   ]
  },
  {
   "cell_type": "markdown",
   "metadata": {},
   "source": [
    "當月份為 10 日期為 5 時，`constellation()` 方法應該印出 `Libra`，請執行以下程式碼確認結果。"
   ]
  },
  {
   "cell_type": "code",
   "execution_count": 62,
   "metadata": {},
   "outputs": [
    {
     "name": "stdout",
     "output_type": "stream",
     "text": [
      "1\n",
      "15\n",
      "Capricorn\n"
     ]
    }
   ],
   "source": [
    "constellation()"
   ]
  },
  {
   "cell_type": "code",
   "execution_count": 63,
   "metadata": {
    "deletable": false,
    "editable": false,
    "nbgrader": {
     "cell_type": "code",
     "checksum": "0181e7452afc8bb08c0467b5494e245c",
     "grade": true,
     "grade_id": "test_constellation",
     "locked": true,
     "points": 25,
     "schema_version": 3,
     "solution": false,
     "task": false
    }
   },
   "outputs": [
    {
     "name": "stderr",
     "output_type": "stream",
     "text": [
      "test_constellation_1 (__main__.TestConstellation) ... ok\n",
      "test_constellation_2 (__main__.TestConstellation) ... ok\n",
      "\n",
      "----------------------------------------------------------------------\n",
      "Ran 2 tests in 0.014s\n",
      "\n",
      "OK\n"
     ]
    }
   ],
   "source": [
    "\"\"\"檢查 constellation() 結果是否與以下測試案例相同\"\"\"\n",
    "import unittest\n",
    "from unittest import mock\n",
    "from unittest.mock import patch\n",
    "from io import StringIO\n",
    "\n",
    "class TestConstellation(unittest.TestCase):\n",
    "    \n",
    "    testcase_1 = [3, 7]\n",
    "    testcase_2 = [5, 4]\n",
    "    \n",
    "    @patch('builtins.input', side_effect=[testcase_1[0], testcase_1[1]])\n",
    "    def test_constellation_1(self, mock_input):\n",
    "        with mock.patch('sys.stdout', new = StringIO()) as output:\n",
    "            constellation()\n",
    "            self.assertEqual(output.getvalue(), \"Pisces\\n\")\n",
    "            \n",
    "    @patch('builtins.input', side_effect=[testcase_2[0], testcase_2[1]])\n",
    "    def test_constellation_2(self, mock_input):\n",
    "        with mock.patch('sys.stdout', new = StringIO()) as output:\n",
    "            constellation()\n",
    "            self.assertEqual(output.getvalue(), \"Taurus\\n\")\n",
    "\n",
    "suite = unittest.TestSuite()\n",
    "suite.addTest(TestConstellation('test_constellation_1'))\n",
    "suite.addTest(TestConstellation('test_constellation_2'))\n",
    "result = unittest.TextTestRunner(verbosity=2).run(suite)\n",
    "\n",
    "assert result.wasSuccessful() == True"
   ]
  }
 ],
 "metadata": {
  "kernelspec": {
   "display_name": "Python 3",
   "language": "python",
   "name": "python3"
  },
  "language_info": {
   "codemirror_mode": {
    "name": "ipython",
    "version": 3
   },
   "file_extension": ".py",
   "mimetype": "text/x-python",
   "name": "python",
   "nbconvert_exporter": "python",
   "pygments_lexer": "ipython3",
   "version": "3.6.7"
  }
 },
 "nbformat": 4,
 "nbformat_minor": 4
}

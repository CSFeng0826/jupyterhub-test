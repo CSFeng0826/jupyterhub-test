{
 "cells": [
  {
   "cell_type": "code",
   "execution_count": null,
   "metadata": {},
   "outputs": [],
   "source": [
    "# 請輸入姓名以及學號，以證名為本人撰寫\n",
    "Name = \"\"\n",
    "NID = \"\""
   ]
  },
  {
   "cell_type": "markdown",
   "metadata": {},
   "source": [
    "## 倍數總和 (25 points)\n",
    "請將下面 `multiple_sum()` 方法完成。"
   ]
  },
  {
   "cell_type": "code",
   "execution_count": 7,
   "metadata": {
    "deletable": false,
    "nbgrader": {
     "cell_type": "code",
     "checksum": "84efb3e419130838cb5efd487997fead",
     "grade": false,
     "grade_id": "multiple_sum",
     "locked": false,
     "schema_version": 3,
     "solution": true,
     "task": false
    }
   },
   "outputs": [
    {
     "ename": "IndentationError",
     "evalue": "unexpected indent (<ipython-input-7-b898f1686742>, line 12)",
     "output_type": "error",
     "traceback": [
      "\u001b[0;36m  File \u001b[0;32m\"<ipython-input-7-b898f1686742>\"\u001b[0;36m, line \u001b[0;32m12\u001b[0m\n\u001b[0;31m    print('sum = ' +str(sum))\u001b[0m\n\u001b[0m    ^\u001b[0m\n\u001b[0;31mIndentationError\u001b[0m\u001b[0;31m:\u001b[0m unexpected indent\n",
      "縮排錯誤，請檢查是否有多餘的縮排。",
      "",
      "縮排以及空格：",
      "https://python-book-test.readthedocs.io/en/latest/intro/03_base.html#id3"
     ]
    }
   ],
   "source": [
    "def multiple_sum():\n",
    "    \"\"\"輸入兩個整數並計算倍數總和\"\"\"\"\"\n",
    "    \n",
    "    # YOUR CODE HERE\n",
    "    a=int(input())\n",
    "    b=int(input())\n",
    "    i = 1\n",
    "    sum=0\n",
    "    for i in range(i,a+1):\n",
    "        if i%b == 0:\n",
    "               sum += i\n",
    "                print('sum = ' +str(sum))"
   ]
  },
  {
   "cell_type": "markdown",
   "metadata": {},
   "source": [
    "當兩個整數分別為 10 體重為 2 時，`multiple_sum()` 方法應該印出 `sum = 30`，請執行以下程式碼確認結果。"
   ]
  },
  {
   "cell_type": "code",
   "execution_count": null,
   "metadata": {},
   "outputs": [],
   "source": [
    "multiple_sum()"
   ]
  },
  {
   "cell_type": "code",
   "execution_count": null,
   "metadata": {
    "deletable": false,
    "editable": false,
    "nbgrader": {
     "cell_type": "code",
     "checksum": "3918d364077ff73e62946c87579d96e4",
     "grade": true,
     "grade_id": "test_multiple_sum",
     "locked": true,
     "points": 25,
     "schema_version": 3,
     "solution": false,
     "task": false
    }
   },
   "outputs": [],
   "source": [
    "\"\"\"檢查 gcd() 結果是否與以下測試案例相同\"\"\"\n",
    "import unittest\n",
    "from unittest import mock\n",
    "from unittest.mock import patch\n",
    "from io import StringIO\n",
    "\n",
    "class TestMultipleSum(unittest.TestCase):\n",
    "    \n",
    "    testcase1 = [1000, 3]\n",
    "    testcase2 = [100, 1]\n",
    "    testcase3 = [0, 7]\n",
    "    \n",
    "    @patch('builtins.input', side_effect=[testcase1[0], testcase1[1]])\n",
    "    def test_multiple_sum_1(self, mock_input):\n",
    "        with mock.patch('sys.stdout', new = StringIO()) as output:\n",
    "            multiple_sum()\n",
    "            self.assertEqual(output.getvalue(), \"sum = 166833\\n\")\n",
    "            \n",
    "    @patch('builtins.input', side_effect=[testcase2[0], testcase2[1]])\n",
    "    def test_multiple_sum_2(self, mock_input):\n",
    "        with mock.patch('sys.stdout', new = StringIO()) as output:\n",
    "            multiple_sum()\n",
    "            self.assertEqual(output.getvalue(), \"sum = 5050\\n\")\n",
    "    \n",
    "    @patch('builtins.input', side_effect=[testcase3[0], testcase3[1]])\n",
    "    def test_multiple_sum_3(self, mock_input):\n",
    "        with mock.patch('sys.stdout', new = StringIO()) as output:\n",
    "            multiple_sum()\n",
    "            self.assertEqual(output.getvalue(), \"sum = 0\\n\")\n",
    "\n",
    "suite = unittest.TestSuite()\n",
    "suite.addTest(TestMultipleSum('test_multiple_sum_1'))\n",
    "suite.addTest(TestMultipleSum('test_multiple_sum_2'))\n",
    "suite.addTest(TestMultipleSum('test_multiple_sum_3'))\n",
    "result = unittest.TextTestRunner(verbosity=2).run(suite)\n",
    "\n",
    "assert result.wasSuccessful() == True"
   ]
  }
 ],
 "metadata": {
  "kernelspec": {
   "display_name": "Python 3",
   "language": "python",
   "name": "python3"
  },
  "language_info": {
   "codemirror_mode": {
    "name": "ipython",
    "version": 3
   },
   "file_extension": ".py",
   "mimetype": "text/x-python",
   "name": "python",
   "nbconvert_exporter": "python",
   "pygments_lexer": "ipython3",
   "version": "3.6.7"
  }
 },
 "nbformat": 4,
 "nbformat_minor": 4
}

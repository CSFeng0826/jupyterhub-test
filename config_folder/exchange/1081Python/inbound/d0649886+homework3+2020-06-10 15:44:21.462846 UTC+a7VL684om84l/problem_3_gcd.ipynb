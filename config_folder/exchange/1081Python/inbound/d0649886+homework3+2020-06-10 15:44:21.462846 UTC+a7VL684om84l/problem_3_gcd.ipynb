{
 "cells": [
  {
   "cell_type": "code",
   "execution_count": null,
   "metadata": {},
   "outputs": [],
   "source": [
    "# 請輸入姓名以及學號，以證名為本人撰寫\n",
    "Name = \"\"\n",
    "NID = \"\""
   ]
  },
  {
   "cell_type": "markdown",
   "metadata": {},
   "source": [
    "## 最大公因數 (25 points)\n",
    "\n",
    "請將下面 `gcd()` 方法完成，輸入兩個整數並計算兩個整數的 **最大公因數**。<br></br><br></br>\n",
    "注意：兩個整數均為 `int` 型態"
   ]
  },
  {
   "cell_type": "code",
   "execution_count": 34,
   "metadata": {
    "deletable": false,
    "nbgrader": {
     "cell_type": "code",
     "checksum": "c2e46019d230e5e890bb00a3b1938694",
     "grade": false,
     "grade_id": "gcd",
     "locked": false,
     "schema_version": 3,
     "solution": true,
     "task": false
    }
   },
   "outputs": [
    {
     "ename": "IndentationError",
     "evalue": "expected an indented block (<ipython-input-34-2fe2b27d0664>, line 10)",
     "output_type": "error",
     "traceback": [
      "\u001b[0;36m  File \u001b[0;32m\"<ipython-input-34-2fe2b27d0664>\"\u001b[0;36m, line \u001b[0;32m10\u001b[0m\n\u001b[0;31m    a, b = b, a\u001b[0m\n\u001b[0m    ^\u001b[0m\n\u001b[0;31mIndentationError\u001b[0m\u001b[0;31m:\u001b[0m expected an indented block\n",
      "程式碼需要縮排，請使用空格或者 Tab 進行縮排。",
      "",
      "縮排以及空格：",
      "https://python-book-test.readthedocs.io/en/latest/intro/03_base.html#id3"
     ]
    }
   ],
   "source": [
    "def gcd():\n",
    "    \"\"\"輸入兩個整數並計算兩個整數的最大公因數\"\"\"\"\"\n",
    "    \n",
    "    # YOUR CODE HERE\n",
    "    a = int(input())\n",
    "    b = int(input()) \n",
    "    y = int\n",
    "    while(y!=0):  \n",
    "            if a < b:\n",
    "            a, b = b, a\n",
    "                y = a % b\n",
    "                    if y == 0:\n",
    "            print(\"GCD =\",b)\n",
    "                else:\n",
    "                            a, b = b, y"
   ]
  },
  {
   "cell_type": "markdown",
   "metadata": {},
   "source": [
    "當兩個整數分別為 65 體重為 104 時，`gcd()` 方法應該印出 `GCD = 13`，請執行以下程式碼確認結果。"
   ]
  },
  {
   "cell_type": "code",
   "execution_count": 35,
   "metadata": {},
   "outputs": [
    {
     "ename": "NameError",
     "evalue": "name 'gcd' is not defined",
     "output_type": "error",
     "traceback": [
      "\u001b[0;31m---------------------------------------------------------------------------\u001b[0m",
      "\u001b[0;31mNameError\u001b[0m                                 Traceback (most recent call last)",
      "\u001b[0;32m<ipython-input-35-7921f765c5e8>\u001b[0m in \u001b[0;36m<module>\u001b[0;34m\u001b[0m\n\u001b[0;32m----> 1\u001b[0;31m \u001b[0mgcd\u001b[0m\u001b[0;34m(\u001b[0m\u001b[0;34m)\u001b[0m\u001b[0;34m\u001b[0m\u001b[0;34m\u001b[0m\u001b[0m\n\u001b[0m",
      "\u001b[0;31mNameError\u001b[0m: name 'gcd' is not defined",
      "變數尚未定義，請檢查變數是否宣告。",
      "",
      "宣告變數：",
      "https://python-book-test.readthedocs.io/en/latest/intro/04_variable.html#id2"
     ]
    }
   ],
   "source": [
    "gcd()"
   ]
  },
  {
   "cell_type": "code",
   "execution_count": 36,
   "metadata": {
    "deletable": false,
    "editable": false,
    "nbgrader": {
     "cell_type": "code",
     "checksum": "2ff785b2d49a317d587ca2a3770a8151",
     "grade": true,
     "grade_id": "test_gcd",
     "locked": true,
     "points": 25,
     "schema_version": 3,
     "solution": false,
     "task": false
    }
   },
   "outputs": [
    {
     "name": "stderr",
     "output_type": "stream",
     "text": [
      "test_gcd_1 (__main__.TestGCD) ... ERROR\n",
      "test_gcd_2 (__main__.TestGCD) ... ERROR\n",
      "\n",
      "======================================================================\n",
      "ERROR: test_gcd_1 (__main__.TestGCD)\n",
      "----------------------------------------------------------------------\n",
      "Traceback (most recent call last):\n",
      "  File \"/opt/conda/lib/python3.6/unittest/mock.py\", line 1179, in patched\n",
      "    return func(*args, **keywargs)\n",
      "  File \"<ipython-input-36-215c7460e44d>\", line 15, in test_gcd_1\n",
      "    gcd()\n",
      "NameError: name 'gcd' is not defined\n",
      "\n",
      "======================================================================\n",
      "ERROR: test_gcd_2 (__main__.TestGCD)\n",
      "----------------------------------------------------------------------\n",
      "Traceback (most recent call last):\n",
      "  File \"/opt/conda/lib/python3.6/unittest/mock.py\", line 1179, in patched\n",
      "    return func(*args, **keywargs)\n",
      "  File \"<ipython-input-36-215c7460e44d>\", line 21, in test_gcd_2\n",
      "    gcd()\n",
      "NameError: name 'gcd' is not defined\n",
      "\n",
      "----------------------------------------------------------------------\n",
      "Ran 2 tests in 0.006s\n",
      "\n",
      "FAILED (errors=2)\n"
     ]
    },
    {
     "ename": "AssertionError",
     "evalue": "",
     "output_type": "error",
     "traceback": [
      "\u001b[0;31m---------------------------------------------------------------------------\u001b[0m",
      "\u001b[0;31mAssertionError\u001b[0m                            Traceback (most recent call last)",
      "\u001b[0;32m<ipython-input-36-215c7460e44d>\u001b[0m in \u001b[0;36m<module>\u001b[0;34m\u001b[0m\n\u001b[1;32m     27\u001b[0m \u001b[0mresult\u001b[0m \u001b[0;34m=\u001b[0m \u001b[0munittest\u001b[0m\u001b[0;34m.\u001b[0m\u001b[0mTextTestRunner\u001b[0m\u001b[0;34m(\u001b[0m\u001b[0mverbosity\u001b[0m\u001b[0;34m=\u001b[0m\u001b[0;36m2\u001b[0m\u001b[0;34m)\u001b[0m\u001b[0;34m.\u001b[0m\u001b[0mrun\u001b[0m\u001b[0;34m(\u001b[0m\u001b[0msuite\u001b[0m\u001b[0;34m)\u001b[0m\u001b[0;34m\u001b[0m\u001b[0;34m\u001b[0m\u001b[0m\n\u001b[1;32m     28\u001b[0m \u001b[0;34m\u001b[0m\u001b[0m\n\u001b[0;32m---> 29\u001b[0;31m \u001b[0;32massert\u001b[0m \u001b[0mresult\u001b[0m\u001b[0;34m.\u001b[0m\u001b[0mwasSuccessful\u001b[0m\u001b[0;34m(\u001b[0m\u001b[0;34m)\u001b[0m \u001b[0;34m==\u001b[0m \u001b[0;32mTrue\u001b[0m\u001b[0;34m\u001b[0m\u001b[0;34m\u001b[0m\u001b[0m\n\u001b[0m",
      "\u001b[0;31mAssertionError\u001b[0m: ",
      ""
     ]
    }
   ],
   "source": [
    "\"\"\"檢查 gcd() 結果是否與以下測試案例相同\"\"\"\n",
    "import unittest\n",
    "from unittest import mock\n",
    "from unittest.mock import patch\n",
    "from io import StringIO\n",
    "\n",
    "class TestGCD(unittest.TestCase):\n",
    "    \n",
    "    testcase1 = [15, 9]\n",
    "    testcase2 = [65, 104]\n",
    "    \n",
    "    @patch('builtins.input', side_effect=[testcase1[0], testcase1[1]])\n",
    "    def test_gcd_1(self, mock_input):\n",
    "        with mock.patch('sys.stdout', new = StringIO()) as output:\n",
    "            gcd()\n",
    "            self.assertEqual(output.getvalue(), \"GCD = 3\\n\")\n",
    "            \n",
    "    @patch('builtins.input', side_effect=[testcase2[0], testcase2[1]])\n",
    "    def test_gcd_2(self, mock_input):\n",
    "        with mock.patch('sys.stdout', new = StringIO()) as output:\n",
    "            gcd()\n",
    "            self.assertEqual(output.getvalue(), \"GCD = 13\\n\")\n",
    "\n",
    "suite = unittest.TestSuite()\n",
    "suite.addTest(TestGCD('test_gcd_1'))\n",
    "suite.addTest(TestGCD('test_gcd_2'))\n",
    "result = unittest.TextTestRunner(verbosity=2).run(suite)\n",
    "\n",
    "assert result.wasSuccessful() == True"
   ]
  }
 ],
 "metadata": {
  "kernelspec": {
   "display_name": "Python 3",
   "language": "python",
   "name": "python3"
  },
  "language_info": {
   "codemirror_mode": {
    "name": "ipython",
    "version": 3
   },
   "file_extension": ".py",
   "mimetype": "text/x-python",
   "name": "python",
   "nbconvert_exporter": "python",
   "pygments_lexer": "ipython3",
   "version": "3.6.7"
  }
 },
 "nbformat": 4,
 "nbformat_minor": 4
}

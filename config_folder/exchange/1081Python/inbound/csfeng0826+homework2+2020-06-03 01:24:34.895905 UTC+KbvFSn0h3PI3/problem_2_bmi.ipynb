{
 "cells": [
  {
   "cell_type": "markdown",
   "metadata": {},
   "source": [
    "Before you turn this problem in, make sure everything runs as expected. First, **restart the kernel** (in the menubar, select Kernel$\\rightarrow$Restart) and then **run all cells** (in the menubar, select Cell$\\rightarrow$Run All).\n",
    "\n",
    "Make sure you fill in any place that says `YOUR CODE HERE` or \"YOUR ANSWER HERE\", as well as your name and collaborators below:"
   ]
  },
  {
   "cell_type": "code",
   "execution_count": 10,
   "metadata": {},
   "outputs": [],
   "source": [
    "NAME = \"\"\n",
    "COLLABORATORS = \"\""
   ]
  },
  {
   "cell_type": "code",
   "execution_count": 11,
   "metadata": {},
   "outputs": [
    {
     "name": "stdout",
     "output_type": "stream",
     "text": [
      "tests\n"
     ]
    }
   ],
   "source": [
    "print(\"tests\")"
   ]
  },
  {
   "cell_type": "markdown",
   "metadata": {},
   "source": [
    "---"
   ]
  },
  {
   "cell_type": "markdown",
   "metadata": {},
   "source": [
    "## 計算 BMI (40 points)\n",
    "\n",
    "請將下面 `bmi()` 方法完成，輸入身高以及體重並計算 $bmi$ 數值，計算公式是以體重（公斤）除以身高（公尺）的平方。<br></br><br></br>\n",
    "注意：身高以及體重為 `float` 型態"
   ]
  },
  {
   "cell_type": "code",
   "execution_count": 9,
   "metadata": {
    "deletable": false,
    "nbgrader": {
     "checksum": "b67f1476bed085e76105b5c5f64f6039",
     "grade": false,
     "grade_id": "bmi",
     "locked": false,
     "schema_version": 3,
     "solution": true
    }
   },
   "outputs": [],
   "source": [
    "def bmi():\n",
    "    \"\"\"計算 BMI 數值，輸入身高及體重，並印出 BMI 數值\"\"\"\n",
    "    \n",
    "    # YOUR CODE HERE\n",
    "    height = float(input())\n",
    "    weight = float(input())\n",
    "    BMI = weight / (height/100)**1\n",
    "    print(\"BMI = %.2f\" %BMI)\n",
    "    #raise NotImplementedError()"
   ]
  },
  {
   "cell_type": "markdown",
   "metadata": {},
   "source": [
    "當身高為 175 體重為 74.5 時，`bmi()` 方法應該印出 `BMI = 24.33`，請執行以下程式碼確認結果。"
   ]
  },
  {
   "cell_type": "code",
   "execution_count": 2,
   "metadata": {},
   "outputs": [
    {
     "name": "stdout",
     "output_type": "stream",
     "text": [
      "14\n",
      "36\n",
      "BMI = 1836.73\n"
     ]
    }
   ],
   "source": [
    "bmi()"
   ]
  },
  {
   "cell_type": "code",
   "execution_count": 6,
   "metadata": {
    "deletable": false,
    "editable": false,
    "nbgrader": {
     "checksum": "7dc10918b045eb598f02a7697e9c81ba",
     "grade": true,
     "grade_id": "correct_bmi",
     "locked": false,
     "points": 40,
     "schema_version": 3,
     "solution": false
    }
   },
   "outputs": [
    {
     "name": "stderr",
     "output_type": "stream",
     "text": [
      "test_bmi (__main__.TestBMI) ... ok\n",
      "\n",
      "----------------------------------------------------------------------\n",
      "Ran 1 test in 0.008s\n",
      "\n",
      "OK\n"
     ]
    }
   ],
   "source": [
    "\"\"\"檢查 bmi() 結果是否與以下測試案例相同\"\"\"\n",
    "import unittest\n",
    "from unittest import mock\n",
    "from unittest.mock import patch\n",
    "from io import StringIO\n",
    "\n",
    "class TestBMI(unittest.TestCase):\n",
    "    \n",
    "    hight_input = 170\n",
    "    weight_input = 66.3\n",
    "    \n",
    "    @patch('builtins.input', side_effect=[hight_input, weight_input])\n",
    "    def test_bmi(self, mock_input):\n",
    "        with mock.patch('sys.stdout', new = StringIO()) as output:\n",
    "            bmi()\n",
    "            self.assertEqual(output.getvalue(), \"BMI = 22.94\\n\")\n",
    "\n",
    "suite = unittest.TestSuite()\n",
    "suite.addTest(TestBMI('test_bmi'))\n",
    "result = unittest.TextTestRunner(verbosity=2).run(suite)\n",
    "\n",
    "assert result.wasSuccessful() == True"
   ]
  }
 ],
 "metadata": {
  "celltoolbar": "Create Assignment",
  "kernelspec": {
   "display_name": "Python 3",
   "language": "python",
   "name": "python3"
  },
  "language_info": {
   "codemirror_mode": {
    "name": "ipython",
    "version": 3
   },
   "file_extension": ".py",
   "mimetype": "text/x-python",
   "name": "python",
   "nbconvert_exporter": "python",
   "pygments_lexer": "ipython3",
   "version": "3.6.7"
  }
 },
 "nbformat": 4,
 "nbformat_minor": 1
}

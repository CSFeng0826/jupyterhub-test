{
 "cells": [
  {
   "cell_type": "code",
   "execution_count": null,
   "metadata": {},
   "outputs": [],
   "source": [
    "# 請輸入姓名以及學號，以證名為本人撰寫\n",
    "Name = \"\"\n",
    "NID = \"\""
   ]
  },
  {
   "cell_type": "markdown",
   "metadata": {},
   "source": [
    "## 計算 BMI (40 points)\n",
    "\n",
    "請將下面 `bmi()` 方法完成，輸入身高以及體重並計算 $bmi$ 數值，計算公式是以體重（公斤）除以身高（公尺）的平方。<br></br><br></br>\n",
    "注意：身高以及體重為 `float` 型態"
   ]
  },
  {
   "cell_type": "code",
   "execution_count": 7,
   "metadata": {
    "deletable": false,
    "nbgrader": {
     "cell_type": "code",
     "checksum": "b67f1476bed085e76105b5c5f64f6039",
     "grade": false,
     "grade_id": "bmi",
     "locked": false,
     "schema_version": 3,
     "solution": true
    }
   },
   "outputs": [],
   "source": [
    "def bmi():\n",
    "    \"\"\"計算 BMI 數值，輸入身高及體重，並印出 BMI 數值\"\"\"\"\"\n",
    "    \n",
    "    # YOUR CODE HERE\n",
    "    height=float(input())/100\n",
    "    weight=float(input())\n",
    "    print(\"BMI = {:.2f}\".format(weight/height**2))"
   ]
  },
  {
   "cell_type": "markdown",
   "metadata": {},
   "source": [
    "當身高為 175 體重為 74.5 時，`bmi()` 方法應該印出 `BMI = 24.33`，請執行以下程式碼確認結果。"
   ]
  },
  {
   "cell_type": "code",
   "execution_count": null,
   "metadata": {},
   "outputs": [],
   "source": [
    "bmi()"
   ]
  },
  {
   "cell_type": "code",
   "execution_count": null,
   "metadata": {
    "deletable": false,
    "editable": false,
    "nbgrader": {
     "cell_type": "code",
     "checksum": "7dc10918b045eb598f02a7697e9c81ba",
     "grade": true,
     "grade_id": "correct_bmi",
     "locked": false,
     "points": 40,
     "schema_version": 3,
     "solution": false
    }
   },
   "outputs": [],
   "source": [
    "\"\"\"檢查 bmi() 結果是否與以下測試案例相同\"\"\"\n",
    "import unittest\n",
    "from unittest import mock\n",
    "from unittest.mock import patch\n",
    "from io import StringIO\n",
    "\n",
    "class TestBMI(unittest.TestCase):\n",
    "    \n",
    "    hight_input = 170\n",
    "    weight_input = 66.3\n",
    "    \n",
    "    @patch('builtins.input', side_effect=[hight_input, weight_input])\n",
    "    def test_bmi(self, mock_input):\n",
    "        with mock.patch('sys.stdout', new = StringIO()) as output:\n",
    "            bmi()\n",
    "            self.assertEqual(output.getvalue(), \"BMI = 22.94\\n\")\n",
    "\n",
    "suite = unittest.TestSuite()\n",
    "suite.addTest(TestBMI('test_bmi'))\n",
    "result = unittest.TextTestRunner(verbosity=2).run(suite)\n",
    "\n",
    "assert result.wasSuccessful() == True"
   ]
  }
 ],
 "metadata": {
  "kernelspec": {
   "display_name": "Python 3",
   "language": "python",
   "name": "python3"
  },
  "language_info": {
   "codemirror_mode": {
    "name": "ipython",
    "version": 3
   },
   "file_extension": ".py",
   "mimetype": "text/x-python",
   "name": "python",
   "nbconvert_exporter": "python",
   "pygments_lexer": "ipython3",
   "version": "3.6.7"
  }
 },
 "nbformat": 4,
 "nbformat_minor": 1
}
